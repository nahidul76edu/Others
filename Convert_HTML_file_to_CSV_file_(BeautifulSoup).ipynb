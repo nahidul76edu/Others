{
  "nbformat": 4,
  "nbformat_minor": 0,
  "metadata": {
    "colab": {
      "name": "Convert HTML file to CSV file (BeautifulSoup).ipynb",
      "provenance": [],
      "collapsed_sections": []
    },
    "kernelspec": {
      "name": "python3",
      "display_name": "Python 3"
    },
    "language_info": {
      "name": "python"
    }
  },
  "cells": [
    {
      "cell_type": "code",
      "source": [
        "# Insert the directory\n",
        "import sys\n",
        "sys.path.insert(0,'/content/drive/MyDrive/nahid_upwork')"
      ],
      "metadata": {
        "id": "HAgtXHbpIsAy"
      },
      "execution_count": 8,
      "outputs": []
    },
    {
      "cell_type": "code",
      "source": [
        "# Importing the required modules \n",
        "import os\n",
        "import sys\n",
        "import pandas as pd\n",
        "from bs4 import BeautifulSoup"
      ],
      "metadata": {
        "id": "1Z4LibOyKuVc"
      },
      "execution_count": 24,
      "outputs": []
    },
    {
      "cell_type": "code",
      "source": [
        "path = '/content/drive/MyDrive/nahid_upwork/1.html'\n",
        "   \n",
        "# empty list\n",
        "data = []\n",
        "   \n",
        "# for getting the header from\n",
        "# the HTML file\n",
        "list_header = []\n",
        "soup = BeautifulSoup(open(path),'html.parser')\n",
        "header = soup.find_all(\"table\")[0].find(\"tr\")\n",
        "  \n",
        "for items in header:\n",
        "    try:\n",
        "        list_header.append(items.get_text())\n",
        "    except:\n",
        "        continue\n",
        "  \n",
        "# for getting the data \n",
        "HTML_data = soup.find_all(\"table\")[0].find_all(\"tr\")[1:]\n",
        "\n",
        "for element in HTML_data:\n",
        "    sub_data = []\n",
        "    for sub_element in element:\n",
        "        try:\n",
        "            sub_data.append(sub_element.get_text())\n",
        "        except:\n",
        "            continue\n",
        "    data.append(sub_data)"
      ],
      "metadata": {
        "id": "_VXu5UWaK1-z"
      },
      "execution_count": 30,
      "outputs": []
    },
    {
      "cell_type": "code",
      "source": [
        "dataframe_output = pd.DataFrame(data, columns=['Output', 'temp'])\n",
        "# Converting Pandas DataFrame\n",
        "# into CSV file\n",
        "dataframe_output.to_csv('Geeks.csv')"
      ],
      "metadata": {
        "id": "K4MxX4w6LnTc"
      },
      "execution_count": 35,
      "outputs": []
    }
  ]
}